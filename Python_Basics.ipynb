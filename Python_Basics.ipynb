{
  "nbformat": 4,
  "nbformat_minor": 0,
  "metadata": {
    "colab": {
      "provenance": []
    },
    "kernelspec": {
      "name": "python3",
      "display_name": "Python 3"
    },
    "language_info": {
      "name": "python"
    }
  },
  "cells": [
    {
      "cell_type": "markdown",
      "source": [
        "Print \"Hello World\""
      ],
      "metadata": {
        "id": "CpPolbTu5Gf0"
      }
    },
    {
      "cell_type": "code",
      "execution_count": null,
      "metadata": {
        "colab": {
          "base_uri": "https://localhost:8080/"
        },
        "id": "DOyrHM2zTm8T",
        "outputId": "d9fe32ef-4368-4494-ba6a-04c8eb56bbf6"
      },
      "outputs": [
        {
          "output_type": "stream",
          "name": "stdout",
          "text": [
            "Hello World\n"
          ]
        }
      ],
      "source": [
        "print(\"Hello World\")"
      ]
    },
    {
      "cell_type": "code",
      "source": [
        "a=10\n",
        "b=3\n",
        "c=a+b\n",
        "print(a,\"+\",b,\"-->\",c)"
      ],
      "metadata": {
        "colab": {
          "base_uri": "https://localhost:8080/"
        },
        "id": "42LZCjMLUJYJ",
        "outputId": "a6679d1d-b31a-4115-f2ff-68d1ca5cdb91"
      },
      "execution_count": null,
      "outputs": [
        {
          "output_type": "stream",
          "name": "stdout",
          "text": [
            "10 + 3 --> 13\n"
          ]
        }
      ]
    },
    {
      "cell_type": "code",
      "source": [
        "a,b,c"
      ],
      "metadata": {
        "colab": {
          "base_uri": "https://localhost:8080/"
        },
        "id": "eel5zT51Uedq",
        "outputId": "a076d4d2-f66f-4139-ab11-68d6d2ee0cc3"
      },
      "execution_count": null,
      "outputs": [
        {
          "output_type": "execute_result",
          "data": {
            "text/plain": [
              "(10, 3, 13)"
            ]
          },
          "metadata": {},
          "execution_count": 3
        }
      ]
    },
    {
      "cell_type": "code",
      "source": [
        "a=\"Neeraj\"\n",
        "b=\"Bhardwaj\"\n",
        "c=\" \"\n",
        "d=a+c+b\n",
        "print(d)"
      ],
      "metadata": {
        "colab": {
          "base_uri": "https://localhost:8080/"
        },
        "id": "ixh3ckXHUq9U",
        "outputId": "ec91160b-0777-4dcf-f1c6-46f45dc2612b"
      },
      "execution_count": 1,
      "outputs": [
        {
          "output_type": "stream",
          "name": "stdout",
          "text": [
            "Neeraj Bhardwaj\n"
          ]
        }
      ]
    },
    {
      "cell_type": "code",
      "source": [
        "a=\"Rohit\"\n",
        "b=100\n",
        "c=a+str(b)   # convert number to string by str\n",
        "print(c)"
      ],
      "metadata": {
        "colab": {
          "base_uri": "https://localhost:8080/"
        },
        "id": "4om5I6UmVJpP",
        "outputId": "4c8fd609-e885-45ed-ffab-096fd9b0cbd4"
      },
      "execution_count": null,
      "outputs": [
        {
          "output_type": "stream",
          "name": "stdout",
          "text": [
            "Rohit100\n"
          ]
        }
      ]
    },
    {
      "cell_type": "code",
      "source": [
        "a=input(\"Enter first string: \")\n",
        "b=input(\"Enter second string: \")\n",
        "c=a+b\n",
        "print(c)"
      ],
      "metadata": {
        "colab": {
          "base_uri": "https://localhost:8080/"
        },
        "id": "niMWMijNVsg8",
        "outputId": "8e9981ce-202e-4022-b6d1-f867818dd393"
      },
      "execution_count": 2,
      "outputs": [
        {
          "output_type": "stream",
          "name": "stdout",
          "text": [
            "Enter first string: Neeraj\n",
            "Enter second string: Bhardwaj\n",
            "NeerajBhardwaj\n"
          ]
        }
      ]
    },
    {
      "cell_type": "code",
      "source": [
        "a=input(\"Enter first string: \")\n",
        "b=input(\"Enter Number: \")\n",
        "c=a+str(b)\n",
        "print(c)"
      ],
      "metadata": {
        "colab": {
          "base_uri": "https://localhost:8080/"
        },
        "id": "cnbYkM79WCzz",
        "outputId": "63f08ba0-b429-444a-fb7c-b18c986c7a80"
      },
      "execution_count": null,
      "outputs": [
        {
          "output_type": "stream",
          "name": "stdout",
          "text": [
            "Enter first string: Rohit\n",
            "Enter Number:  100\n",
            "Rohit 100\n"
          ]
        }
      ]
    },
    {
      "cell_type": "code",
      "source": [
        "a=int(input(\"Enter first Number: \"))\n",
        "b=int(input(\"Enter Second Number: \"))\n",
        "c=a+b\n",
        "print(c)"
      ],
      "metadata": {
        "colab": {
          "base_uri": "https://localhost:8080/"
        },
        "id": "h7BdmP4vWLAv",
        "outputId": "1e15cfee-816b-4647-b0f5-efd9cca9c589"
      },
      "execution_count": null,
      "outputs": [
        {
          "output_type": "stream",
          "name": "stdout",
          "text": [
            "Enter first Number: 12\n",
            "Enter Second Number: 4\n",
            "16\n"
          ]
        }
      ]
    },
    {
      "cell_type": "code",
      "source": [
        "i=1\n",
        "while i<=10:\n",
        " print(2*i)\n",
        " i=i+1"
      ],
      "metadata": {
        "colab": {
          "base_uri": "https://localhost:8080/"
        },
        "id": "BnE5l8V1Wx9e",
        "outputId": "0849674f-5547-48fd-d9cc-ce68cc534fb1"
      },
      "execution_count": null,
      "outputs": [
        {
          "output_type": "stream",
          "name": "stdout",
          "text": [
            "2\n",
            "4\n",
            "6\n",
            "8\n",
            "10\n",
            "12\n",
            "14\n",
            "16\n",
            "18\n",
            "20\n"
          ]
        }
      ]
    },
    {
      "cell_type": "code",
      "source": [
        "range(1,11)"
      ],
      "metadata": {
        "colab": {
          "base_uri": "https://localhost:8080/"
        },
        "id": "nQX_W0-hYTf3",
        "outputId": "30cac0c3-61ca-4ca4-8b71-b4ac89beec22"
      },
      "execution_count": null,
      "outputs": [
        {
          "output_type": "execute_result",
          "data": {
            "text/plain": [
              "range(1, 11)"
            ]
          },
          "metadata": {},
          "execution_count": 15
        }
      ]
    },
    {
      "cell_type": "code",
      "source": [
        "list(range(1,11))"
      ],
      "metadata": {
        "colab": {
          "base_uri": "https://localhost:8080/"
        },
        "id": "Q7sgxyfWYV8J",
        "outputId": "751ea3da-14f1-40b7-8f98-1a8fbcfddee8"
      },
      "execution_count": null,
      "outputs": [
        {
          "output_type": "execute_result",
          "data": {
            "text/plain": [
              "[1, 2, 3, 4, 5, 6, 7, 8, 9, 10]"
            ]
          },
          "metadata": {},
          "execution_count": 16
        }
      ]
    },
    {
      "cell_type": "code",
      "source": [
        "print(list(range(1,11)))\n",
        "print(list(range(10,20)))\n",
        "print(list(range(2,20,2)))\n",
        "print(list(range(-10,-20,2))) # output is empty because -10+2=-8 but range is -10 t0 -20\n",
        "print(list(range(-10,-20,-2)))"
      ],
      "metadata": {
        "colab": {
          "base_uri": "https://localhost:8080/"
        },
        "id": "_XWj9BkpYc8v",
        "outputId": "ac5526ae-03d8-4e8b-d5cd-7534afdf13b7"
      },
      "execution_count": null,
      "outputs": [
        {
          "output_type": "stream",
          "name": "stdout",
          "text": [
            "[1, 2, 3, 4, 5, 6, 7, 8, 9, 10]\n",
            "[10, 11, 12, 13, 14, 15, 16, 17, 18, 19]\n",
            "[2, 4, 6, 8, 10, 12, 14, 16, 18]\n",
            "[]\n",
            "[-10, -12, -14, -16, -18]\n"
          ]
        }
      ]
    },
    {
      "cell_type": "code",
      "source": [
        "for i in range(0,10,3):\n",
        " print(i)"
      ],
      "metadata": {
        "colab": {
          "base_uri": "https://localhost:8080/"
        },
        "id": "7XrTpFLDZU8Q",
        "outputId": "35715a0c-bb90-4a49-b051-8e143422725e"
      },
      "execution_count": null,
      "outputs": [
        {
          "output_type": "stream",
          "name": "stdout",
          "text": [
            "0\n",
            "3\n",
            "6\n",
            "9\n"
          ]
        }
      ]
    },
    {
      "cell_type": "code",
      "source": [
        "a=int(input(\"Enter Number: \"))\n",
        "for i in range(1,11):\n",
        " print(a*i)"
      ],
      "metadata": {
        "colab": {
          "base_uri": "https://localhost:8080/"
        },
        "id": "DttKcl_Bdk7R",
        "outputId": "0062e1dd-96d2-401b-c60d-b4f4a68cb5c1"
      },
      "execution_count": null,
      "outputs": [
        {
          "output_type": "stream",
          "name": "stdout",
          "text": [
            "Enter Number: 21\n",
            "21\n",
            "42\n",
            "63\n",
            "84\n",
            "105\n",
            "126\n",
            "147\n",
            "168\n",
            "189\n",
            "210\n"
          ]
        }
      ]
    },
    {
      "cell_type": "code",
      "source": [
        "a=input(\"Enter Number: \")\n",
        "for i in range(1,11):\n",
        " print(a*i)"
      ],
      "metadata": {
        "colab": {
          "base_uri": "https://localhost:8080/"
        },
        "id": "XCd8vFthhzD2",
        "outputId": "1864ec0f-aca0-4d2b-c44a-6537235ea953"
      },
      "execution_count": null,
      "outputs": [
        {
          "output_type": "stream",
          "name": "stdout",
          "text": [
            "Enter Number: 6\n",
            "6\n",
            "66\n",
            "666\n",
            "6666\n",
            "66666\n",
            "666666\n",
            "6666666\n",
            "66666666\n",
            "666666666\n",
            "6666666666\n"
          ]
        }
      ]
    },
    {
      "cell_type": "code",
      "source": [
        "print(sum(range(1,11)))"
      ],
      "metadata": {
        "colab": {
          "base_uri": "https://localhost:8080/"
        },
        "id": "boWbsa8_tfBl",
        "outputId": "0c2f252e-3f46-4933-ac7a-6648fc21d47b"
      },
      "execution_count": null,
      "outputs": [
        {
          "output_type": "stream",
          "name": "stdout",
          "text": [
            "55\n"
          ]
        }
      ]
    },
    {
      "cell_type": "code",
      "source": [
        "a=int(input(\"Enter First No: \"))\n",
        "b=int(input(\"Enter Second No: \"))\n",
        "if a>b:\n",
        "  print(a,\">\",b)\n",
        "  x=90\n",
        "  y=100\n",
        "else:\n",
        "  print(a,\"<\",b)"
      ],
      "metadata": {
        "colab": {
          "base_uri": "https://localhost:8080/"
        },
        "id": "yzUe7Qo3uxQS",
        "outputId": "8d7350dc-4001-4c30-ccd7-cc3daa66cb05"
      },
      "execution_count": null,
      "outputs": [
        {
          "output_type": "stream",
          "name": "stdout",
          "text": [
            "Enter First No: 88\n",
            "Enter Second No: 96\n",
            "88 < 96\n"
          ]
        }
      ]
    },
    {
      "cell_type": "code",
      "source": [
        "n=int(input(\"Enter Number: \"))\n",
        "f=0\n",
        "for i in range(2,n//2 +1):\n",
        "  if n%i==0:\n",
        "    f=1\n",
        "    break\n",
        "if f==0:\n",
        "  print(\"Prime\")\n",
        "else:\n",
        "  print(\"Not Prime\")"
      ],
      "metadata": {
        "colab": {
          "base_uri": "https://localhost:8080/"
        },
        "id": "nEk_49Juxl7H",
        "outputId": "71f01d8d-4813-4f22-fc47-0a61a497455d"
      },
      "execution_count": null,
      "outputs": [
        {
          "output_type": "stream",
          "name": "stdout",
          "text": [
            "Enter Number: 55\n",
            "Not Prime\n"
          ]
        }
      ]
    },
    {
      "cell_type": "code",
      "source": [
        "a= input(\"Enter First String: \")\n",
        "b= input(\"Enter Second String: \")\n",
        "if a==b:\n",
        "  print(a,\"=\",b)\n",
        "elif a>b:\n",
        "  print(a,\">\",b)\n",
        "else:\n",
        "  print(a,\"<\",b)"
      ],
      "metadata": {
        "colab": {
          "base_uri": "https://localhost:8080/"
        },
        "id": "6xd6THyXzpfj",
        "outputId": "7373893e-efc7-4f6b-de82-690aa8707260"
      },
      "execution_count": null,
      "outputs": [
        {
          "output_type": "stream",
          "name": "stdout",
          "text": [
            "Enter First String: India\n",
            "Enter Second String: InDia\n",
            "India > InDia\n"
          ]
        }
      ]
    },
    {
      "cell_type": "code",
      "source": [
        "def AddN(n):\n",
        "  s=sum(range(n+1))\n",
        "  return s\n",
        "\n",
        "print (AddN(10))\n",
        "print (AddN(20))\n",
        "print (AddN(50))\n",
        "print (AddN(200))"
      ],
      "metadata": {
        "colab": {
          "base_uri": "https://localhost:8080/"
        },
        "id": "t9U8hJyh1AzA",
        "outputId": "d180d073-83a7-48d8-a0dd-5d5e2a7dd919"
      },
      "execution_count": null,
      "outputs": [
        {
          "output_type": "stream",
          "name": "stdout",
          "text": [
            "55\n",
            "210\n",
            "1275\n",
            "20100\n"
          ]
        }
      ]
    },
    {
      "cell_type": "code",
      "source": [
        "import math as n\n",
        "print (\"exp(200) --> \", n.exp(200))\n",
        "print (\"log(100,2) --> \", n.log(100,2))\n",
        "print (\"log(100,10) --> \", n.log(100,10))\n",
        "print (\"log10(100) --> \", n.log10(100))\n",
        "print (\"cos(30) --> \", n.cos(30))\n",
        "print (\"sin(30) --> \", n.sin(30))\n",
        "print (\"sqrt(324) --> \", n.sqrt(324))\n",
        "print (\"ceil(89.9) --> \", n.ceil(89.9))\n",
        "print (\"floor(89.9) --> \", n.floor(89.9))"
      ],
      "metadata": {
        "colab": {
          "base_uri": "https://localhost:8080/"
        },
        "id": "PARs2QZK2mQw",
        "outputId": "c2d85bb5-fcec-4bb5-d6b8-f6d94214e40e"
      },
      "execution_count": null,
      "outputs": [
        {
          "output_type": "stream",
          "name": "stdout",
          "text": [
            "exp(200) -->  7.225973768125749e+86\n",
            "log(100,2) -->  6.643856189774725\n",
            "log(100,10) -->  2.0\n",
            "log10(100) -->  2.0\n",
            "cos(30) -->  0.15425144988758405\n",
            "sin(30) -->  -0.9880316240928618\n",
            "sqrt(324) -->  18.0\n",
            "ceil(89.9) -->  90\n",
            "floor(89.9) -->  89\n"
          ]
        }
      ]
    },
    {
      "cell_type": "markdown",
      "source": [
        " Indexing in String"
      ],
      "metadata": {
        "id": "MfkCZlQi5YqS"
      }
    },
    {
      "cell_type": "code",
      "source": [
        "var = 'Hello World!'\n",
        "print (\"var  -->\", var)\n",
        "print (\"var[0]  -->\", var[0])\n",
        "print (\"var[1:5]  -->\", var[1:5])\n",
        "print (\"var[:-5]  -->\", var[:-5])\n",
        "print (\"var[1:10:2]  -->\", var[1:10:2]) # skip 1 letter after taking letter\n",
        "print (\"var[1:10:4]  -->\", var[1:10:4]) # skip 3 letter after taking letter\n",
        "print (len(var))"
      ],
      "metadata": {
        "colab": {
          "base_uri": "https://localhost:8080/"
        },
        "id": "UpcZW36P5Blx",
        "outputId": "2726fa26-04af-4ce8-aa3e-eb53df0a859a"
      },
      "execution_count": null,
      "outputs": [
        {
          "output_type": "stream",
          "name": "stdout",
          "text": [
            "var  --> Hello World!\n",
            "var[0]  --> H\n",
            "var[1:5]  --> ello\n",
            "var[:-5]  --> Hello W\n",
            "var[1:10:2]  --> el ol\n",
            "var[1:10:4]  --> e l\n",
            "12\n"
          ]
        }
      ]
    },
    {
      "cell_type": "markdown",
      "source": [
        "String Length,upper,lower"
      ],
      "metadata": {
        "id": "A8ehl1EQ-ffH"
      }
    },
    {
      "cell_type": "code",
      "source": [
        "print(\"String -->\",var)\n",
        "print(\"length -->\",len(var))\n",
        "print(\"Upper -->\",var.upper())\n",
        "print(\"Lower -->\",var.lower())"
      ],
      "metadata": {
        "colab": {
          "base_uri": "https://localhost:8080/"
        },
        "id": "D_q6swMR-dZk",
        "outputId": "87c1cd55-cac7-42b8-c004-91710e45dfa4"
      },
      "execution_count": null,
      "outputs": [
        {
          "output_type": "stream",
          "name": "stdout",
          "text": [
            "String --> Hello World!\n",
            "length --> 12\n",
            "Upper --> HELLO WORLD!\n",
            "Lower --> hello world!\n"
          ]
        }
      ]
    },
    {
      "cell_type": "markdown",
      "source": [
        "String Formatting"
      ],
      "metadata": {
        "id": "jM_EmYhu_i7C"
      }
    },
    {
      "cell_type": "code",
      "source": [
        "name=input(\"Enter your name: \")\n",
        "age=int(input(\"Enter Your Age: \"))\n",
        "price=float(input(\"Enter the Book Price: \"))\n",
        "s=\"\\n Your name is %s, Age is %d,Book Price is %f\" %(name.upper(),age,price)\n",
        "print(s)"
      ],
      "metadata": {
        "colab": {
          "base_uri": "https://localhost:8080/"
        },
        "id": "BzJbWZQo_p0c",
        "outputId": "52cfa796-c0f9-49e3-ab23-cf5f9f350cdd"
      },
      "execution_count": 3,
      "outputs": [
        {
          "output_type": "stream",
          "name": "stdout",
          "text": [
            "Enter your name: Neeraj\n",
            "Enter Your Age: 21\n",
            "Enter the Book Price: 999\n",
            "\n",
            " Your name is NEERAJ, Age is 21,Book Price is 999.000000\n"
          ]
        }
      ]
    },
    {
      "cell_type": "markdown",
      "source": [
        "String In Triple Quotes"
      ],
      "metadata": {
        "id": "uk4j9iEXQ0j8"
      }
    },
    {
      "cell_type": "code",
      "source": [
        "para_str = '''I am Neeraj\n",
        "My Hobbie is swimming\n",
        "'''\n",
        "para_sstr = \"\"\"I am Neeraj\n",
        "My Hobbie is swimming\n",
        "\"\"\"\n",
        "print(para_str)\n",
        "print(para_sstr)"
      ],
      "metadata": {
        "colab": {
          "base_uri": "https://localhost:8080/"
        },
        "id": "dW77hJyW_mXu",
        "outputId": "261856b1-377c-41a7-c037-11286bae3e1f"
      },
      "execution_count": 4,
      "outputs": [
        {
          "output_type": "stream",
          "name": "stdout",
          "text": [
            "I am Neeraj\n",
            "My Hobbie is swimming\n",
            "\n",
            "I am Neeraj\n",
            "My Hobbie is swimming\n",
            "\n"
          ]
        }
      ]
    },
    {
      "cell_type": "markdown",
      "source": [
        "String Strip"
      ],
      "metadata": {
        "id": "3kffk5jZWNlf"
      }
    },
    {
      "cell_type": "code",
      "source": [
        "var =\" Nicobar  Island   \"\n",
        "print(\"String -->\",var)\n",
        "print(\"length -->\",len(var))\n",
        "print(\"var strip -->\",var.strip())\n",
        "print(\"length after strip -->\",len(var.strip()))"
      ],
      "metadata": {
        "colab": {
          "base_uri": "https://localhost:8080/"
        },
        "id": "6wIyZFdJWQLF",
        "outputId": "99e35c11-6eea-4387-a793-f9570d330520"
      },
      "execution_count": null,
      "outputs": [
        {
          "output_type": "stream",
          "name": "stdout",
          "text": [
            "String -->  Nicobar  Island   \n",
            "length --> 19\n",
            "var strip --> Nicobar  Island\n",
            "length after strip --> 15\n"
          ]
        }
      ]
    },
    {
      "cell_type": "markdown",
      "source": [
        "String Split"
      ],
      "metadata": {
        "id": "uxvk09gqXLwr"
      }
    },
    {
      "cell_type": "code",
      "source": [
        "var =\" Nicobar  Island   \"\n",
        "print(\"String -->\",var)\n",
        "print(\"length -->\",len(var))\n",
        "print(\"var split -->\",var.split())\n",
        "print(\"var split -->\",var.split(' '))\n",
        "print(\"var split -->\",var.split(','))\n",
        "\n",
        "#Strip + split\n",
        "print(\"var split -->\",var.strip().split(','))"
      ],
      "metadata": {
        "colab": {
          "base_uri": "https://localhost:8080/"
        },
        "id": "plZuDblxXXZC",
        "outputId": "528097a3-7a64-48f2-ae78-1f2d1b6b38cb"
      },
      "execution_count": null,
      "outputs": [
        {
          "output_type": "stream",
          "name": "stdout",
          "text": [
            "String -->  Nicobar  Island   \n",
            "length --> 19\n",
            "var split --> ['Nicobar', 'Island']\n",
            "var split --> ['', 'Nicobar', '', 'Island', '', '', '']\n",
            "var split --> [' Nicobar  Island   ']\n",
            "var split --> ['Nicobar  Island']\n"
          ]
        }
      ]
    },
    {
      "cell_type": "markdown",
      "source": [
        "Count in string"
      ],
      "metadata": {
        "id": "ElbU4pMXYuTT"
      }
    },
    {
      "cell_type": "code",
      "source": [
        "var =\" nicobar  Island   \"\n",
        "print(\"String -->\",var)\n",
        "print(\"Count of ' ' -->\",var.count(' '))\n",
        "print(\"Count of 'o' -->\",var.count('o'))\n",
        "print(\"Count of 'nd' -->\",var.count('nd'))\n",
        "print(\"Count of 'n' -->\",var.count('n'))\n",
        "print(\"Count of 'y' -->\",var.count('y'))\n",
        "print((var.count('d')*100))"
      ],
      "metadata": {
        "colab": {
          "base_uri": "https://localhost:8080/"
        },
        "id": "IQdopEo6Yz6p",
        "outputId": "fed1d400-556d-4974-8d01-6092ddfc8548"
      },
      "execution_count": null,
      "outputs": [
        {
          "output_type": "stream",
          "name": "stdout",
          "text": [
            "String -->  nicobar  Island   \n",
            "Count of ' ' --> 6\n",
            "Count of 'o' --> 1\n",
            "Count of 'nd' --> 1\n",
            "Count of 'n' --> 2\n",
            "Count of 'y' --> 0\n",
            "100\n"
          ]
        }
      ]
    },
    {
      "cell_type": "markdown",
      "source": [
        "Reverse a String"
      ],
      "metadata": {
        "id": "jgsSOb1VXkjQ"
      }
    },
    {
      "cell_type": "code",
      "source": [
        "var='Indian Army'\n",
        "print(\"var[::1] -->\",var[::1])\n",
        "print(\"var[::2] -->\",var[::2])\n",
        "print(\"var[::-1] -->\",var[::-1])\n",
        "print(\"var[::-2] -->\",var[::-2])"
      ],
      "metadata": {
        "colab": {
          "base_uri": "https://localhost:8080/"
        },
        "id": "bIE6hquKXoDu",
        "outputId": "d0f0bc8f-d875-42ad-b620-07cc25f3fe8e"
      },
      "execution_count": null,
      "outputs": [
        {
          "output_type": "stream",
          "name": "stdout",
          "text": [
            "var[::1] --> Indian Army\n",
            "var[::2] --> Ida ry\n",
            "var[::-1] --> ymrA naidnI\n",
            "var[::-2] --> yr adI\n"
          ]
        }
      ]
    },
    {
      "cell_type": "markdown",
      "source": [
        "Palindrome"
      ],
      "metadata": {
        "id": "8eCA0uklYgnk"
      }
    },
    {
      "cell_type": "code",
      "source": [
        "s1=\"Indian Army\"\n",
        "s2=\"malayalam\"\n",
        "s3=\"madam\"\n",
        "s4=\"teacher\"\n",
        "print(\"s1 -->\", s1==s1[::-1])\n",
        "print(\"s2 -->\", s2==s2[::-1])\n",
        "print(\"s3 -->\", s3==s3[::-1])\n",
        "print(\"s4 -->\", s4==s4[::-1])"
      ],
      "metadata": {
        "colab": {
          "base_uri": "https://localhost:8080/"
        },
        "id": "UcLlcLkEYWWY",
        "outputId": "4f65ed3f-a178-4837-fc16-59893799607d"
      },
      "execution_count": null,
      "outputs": [
        {
          "output_type": "stream",
          "name": "stdout",
          "text": [
            "s1 --> False\n",
            "s2 --> True\n",
            "s3 --> True\n",
            "s4 --> False\n"
          ]
        }
      ]
    },
    {
      "cell_type": "markdown",
      "source": [
        "Random Numbers/String"
      ],
      "metadata": {
        "id": "yG37mJpwZW14"
      }
    },
    {
      "cell_type": "markdown",
      "source": [
        "Generate Random number between 0 and 1"
      ],
      "metadata": {
        "id": "WPgp2sLjZhjm"
      }
    },
    {
      "cell_type": "code",
      "source": [
        "import random as r\n",
        "print(r.random())\n",
        "print(r.random())\n",
        "print(round(r.random(),4)) # round off upto 4 decimal places"
      ],
      "metadata": {
        "colab": {
          "base_uri": "https://localhost:8080/"
        },
        "id": "qNGxXviyZq0Z",
        "outputId": "52917e26-b4ac-412c-c296-2babc404c88b"
      },
      "execution_count": null,
      "outputs": [
        {
          "output_type": "stream",
          "name": "stdout",
          "text": [
            "0.46865600610846436\n",
            "0.3075252523171895\n",
            "0.8558\n"
          ]
        }
      ]
    },
    {
      "cell_type": "markdown",
      "source": [
        "Generate Random Integer Number"
      ],
      "metadata": {
        "id": "cpsnTblkaRup"
      }
    },
    {
      "cell_type": "code",
      "source": [
        "import random as r\n",
        "print(r.randint(1,100))\n",
        "print(r.randint(1,100))\n",
        "print(r.randint(-10,1))\n",
        "print(r.randint(-10,10))"
      ],
      "metadata": {
        "colab": {
          "base_uri": "https://localhost:8080/"
        },
        "id": "oJg3egijacNA",
        "outputId": "fcc609b2-72b4-4b71-95a5-4578d0a77be4"
      },
      "execution_count": null,
      "outputs": [
        {
          "output_type": "stream",
          "name": "stdout",
          "text": [
            "87\n",
            "55\n",
            "-8\n",
            "0\n"
          ]
        }
      ]
    },
    {
      "cell_type": "markdown",
      "source": [
        "Generate Random Real Number"
      ],
      "metadata": {
        "id": "RGwPTiIvatlA"
      }
    },
    {
      "cell_type": "code",
      "source": [
        "import random as r\n",
        "print(r.uniform(1,100))\n",
        "print(r.uniform(1,100))\n",
        "print(r.uniform(-10,1))\n",
        "print(r.uniform(-10,10))\n",
        "print(round(r.uniform(-10,10),2))"
      ],
      "metadata": {
        "colab": {
          "base_uri": "https://localhost:8080/"
        },
        "id": "uOez3Ja0atNc",
        "outputId": "a5d67882-48f5-43cd-ea65-428a0c5b3539"
      },
      "execution_count": null,
      "outputs": [
        {
          "output_type": "stream",
          "name": "stdout",
          "text": [
            "34.06047130350291\n",
            "8.869376585707064\n",
            "-9.300896063710198\n",
            "1.8795235261463041\n",
            "8.27\n"
          ]
        }
      ]
    },
    {
      "cell_type": "markdown",
      "source": [
        "Select Sample from a list of elements"
      ],
      "metadata": {
        "id": "3HBJGgB0bLJq"
      }
    },
    {
      "cell_type": "code",
      "source": [
        "import random as r\n",
        "A=[1,2,3,4,5,6,7,8,9,10]\n",
        "\n",
        "print(r.sample(A,4))\n",
        "print(r.sample(A,2))\n",
        "print(r.sample(range(0,100),2))\n",
        "print(r.sample(range(-100,100),5))"
      ],
      "metadata": {
        "colab": {
          "base_uri": "https://localhost:8080/"
        },
        "id": "AmkaLs7mbQbf",
        "outputId": "6308be01-097e-4aed-d749-d5e367b8996f"
      },
      "execution_count": null,
      "outputs": [
        {
          "output_type": "stream",
          "name": "stdout",
          "text": [
            "[4, 8, 6, 5]\n",
            "[6, 3]\n",
            "[11, 3]\n",
            "[-42, -82, 98, -44, -100]\n"
          ]
        }
      ]
    },
    {
      "cell_type": "markdown",
      "source": [
        "Generate Random String"
      ],
      "metadata": {
        "id": "mJfbBzW8b1kQ"
      }
    },
    {
      "cell_type": "code",
      "source": [
        "import string as s\n",
        "import random as r\n",
        "print(\"String  --->\",s.ascii_letters)\n",
        "\n",
        "passwd=r.sample(s.ascii_letters,6) # we replace 6 by integer upto 104\n",
        "print(\"Selected char -->\",passwd)\n",
        "passwd1=\"\".join(passwd)\n",
        "print(\"passwd1 -->\",passwd1)\n",
        "passwd2=\"+\".join(passwd)\n",
        "print(\"passwd2 -->\",passwd2)\n",
        "passwd3=\"*\".join(passwd)\n",
        "print(\"passwd3 -->\",passwd3)\n"
      ],
      "metadata": {
        "colab": {
          "base_uri": "https://localhost:8080/"
        },
        "id": "U8bJmvgRb7ri",
        "outputId": "0415eec9-d2b8-40d1-907e-daa54069ad67"
      },
      "execution_count": null,
      "outputs": [
        {
          "output_type": "stream",
          "name": "stdout",
          "text": [
            "String  ---> abcdefghijklmnopqrstuvwxyzABCDEFGHIJKLMNOPQRSTUVWXYZ\n",
            "Selected char --> ['v', 'Z', 'x', 'P', 'q', 'O']\n",
            "passwd1 --> vZxPqO\n",
            "passwd2 --> v+Z+x+P+q+O\n",
            "passwd3 --> v*Z*x*P*q*O\n"
          ]
        }
      ]
    },
    {
      "cell_type": "markdown",
      "source": [
        "Generate Random digits"
      ],
      "metadata": {
        "id": "CvpVWn4Gdn5B"
      }
    },
    {
      "cell_type": "code",
      "source": [
        "import string as s\n",
        "import random as r\n",
        "print(\"Digits  -->\",s.digits)\n",
        "\n",
        "otp=r.sample(s.digits,5)\n",
        "print(\"Selected num -->\",otp)\n",
        "otp=\"\".join(otp)\n",
        "print(\"otp1 -->\",otp)\n",
        "\n",
        "otp=r.sample(s.digits,6)\n",
        "print(\"Selected num2 -->\",otp)\n",
        "otp=\"\".join(otp)\n",
        "print(\"otp1 -->\",otp)\n",
        "\n",
        "otp=r.sample(s.digits,5)\n",
        "print(\"Selected num3 -->\",otp)\n",
        "otp=\"\".join(otp)\n",
        "print(\"otp1 -->\",otp)"
      ],
      "metadata": {
        "colab": {
          "base_uri": "https://localhost:8080/"
        },
        "id": "uBEB3GdSdji7",
        "outputId": "f465a70c-bf2d-4cda-c80f-122ed4fc8743"
      },
      "execution_count": null,
      "outputs": [
        {
          "output_type": "stream",
          "name": "stdout",
          "text": [
            "Digits  --> 0123456789\n",
            "Selected num --> ['5', '7', '9', '0', '1']\n",
            "otp1 --> 57901\n",
            "Selected num2 --> ['0', '3', '6', '9', '2', '8']\n",
            "otp1 --> 036928\n",
            "Selected num3 --> ['0', '8', '7', '9', '6']\n",
            "otp1 --> 08796\n"
          ]
        }
      ]
    },
    {
      "cell_type": "code",
      "source": [
        "import string as s\n",
        "import random as r\n",
        "print(\"String + Digits  -->\",s.ascii_letters + s.digits)\n",
        "\n",
        "MixPasswd=r.sample(s.ascii_letters + s.digits,5)\n",
        "print(\"P -->\",MixPasswd)\n",
        "MixPasswd=\"\".join(MixPasswd)\n",
        "print(\"MixPasswd -->\",MixPasswd)\n",
        "\n",
        "MixPasswd=r.sample(s.ascii_letters + s.digits,6)\n",
        "print(\"P -->\",MixPasswd)\n",
        "MixPasswd=\"\".join(MixPasswd)\n",
        "print(\"MixPasswd -->\",MixPasswd)\n",
        "\n",
        "MixPasswd=r.sample(s.ascii_letters + s.digits,8)\n",
        "print(\"P -->\",MixPasswd)\n",
        "MixPasswd=\"\".join(MixPasswd)\n",
        "print(\"MixPasswd -->\",MixPasswd)\n",
        "\n",
        "SPLCHAR=\"!@#$%^&*()_+\"\n",
        "MixPasswd=r.sample(SPLCHAR+s.ascii_letters + s.digits,8)\n",
        "print(\"P -->\",MixPasswd)\n",
        "MixPasswd=\"\".join(MixPasswd)\n",
        "print(\"MixPasswd -->\",MixPasswd)"
      ],
      "metadata": {
        "colab": {
          "base_uri": "https://localhost:8080/"
        },
        "id": "XDYoJpL9jike",
        "outputId": "1c7779c4-bab8-4f7f-e505-23a845018025"
      },
      "execution_count": null,
      "outputs": [
        {
          "output_type": "stream",
          "name": "stdout",
          "text": [
            "String + Digits  --> abcdefghijklmnopqrstuvwxyzABCDEFGHIJKLMNOPQRSTUVWXYZ0123456789\n",
            "P --> ['u', 'm', 'B', 'X', 'j']\n",
            "MixPasswd --> umBXj\n",
            "P --> ['t', 'c', 'a', '5', 'D', 'p']\n",
            "MixPasswd --> tca5Dp\n",
            "P --> ['B', 'd', 'F', 'v', 'P', 'e', 'k', '7']\n",
            "MixPasswd --> BdFvPek7\n",
            "P --> ['K', 'H', '2', 'l', 'n', 'Z', '+', 'c']\n",
            "MixPasswd --> KH2lnZ+c\n"
          ]
        }
      ]
    },
    {
      "cell_type": "markdown",
      "source": [
        "Exception Handaling"
      ],
      "metadata": {
        "id": "KfacZmuCnO0q"
      }
    },
    {
      "cell_type": "markdown",
      "source": [
        "   Error Generation"
      ],
      "metadata": {
        "id": "Aq2zp6rrnUoc"
      }
    },
    {
      "cell_type": "code",
      "source": [
        "for i in range(-5,6):\n",
        " print(\"100/\",i,\"-->\",100/i)"
      ],
      "metadata": {
        "colab": {
          "base_uri": "https://localhost:8080/",
          "height": 245
        },
        "id": "CHQe3-8cnSzq",
        "outputId": "94b9c557-60b6-4ea9-f720-5390b91fedcf"
      },
      "execution_count": null,
      "outputs": [
        {
          "output_type": "stream",
          "name": "stdout",
          "text": [
            "100/ -5 --> -20.0\n",
            "100/ -4 --> -25.0\n",
            "100/ -3 --> -33.333333333333336\n",
            "100/ -2 --> -50.0\n",
            "100/ -1 --> -100.0\n"
          ]
        },
        {
          "output_type": "error",
          "ename": "ZeroDivisionError",
          "evalue": "division by zero",
          "traceback": [
            "\u001b[0;31m---------------------------------------------------------------------------\u001b[0m",
            "\u001b[0;31mZeroDivisionError\u001b[0m                         Traceback (most recent call last)",
            "\u001b[0;32m/tmp/ipython-input-3346673070.py\u001b[0m in \u001b[0;36m<cell line: 0>\u001b[0;34m()\u001b[0m\n\u001b[1;32m      1\u001b[0m \u001b[0;32mfor\u001b[0m \u001b[0mi\u001b[0m \u001b[0;32min\u001b[0m \u001b[0mrange\u001b[0m\u001b[0;34m(\u001b[0m\u001b[0;34m-\u001b[0m\u001b[0;36m5\u001b[0m\u001b[0;34m,\u001b[0m\u001b[0;36m6\u001b[0m\u001b[0;34m)\u001b[0m\u001b[0;34m:\u001b[0m\u001b[0;34m\u001b[0m\u001b[0;34m\u001b[0m\u001b[0m\n\u001b[0;32m----> 2\u001b[0;31m  \u001b[0mprint\u001b[0m\u001b[0;34m(\u001b[0m\u001b[0;34m\"100/\"\u001b[0m\u001b[0;34m,\u001b[0m\u001b[0mi\u001b[0m\u001b[0;34m,\u001b[0m\u001b[0;34m\"-->\"\u001b[0m\u001b[0;34m,\u001b[0m\u001b[0;36m100\u001b[0m\u001b[0;34m/\u001b[0m\u001b[0mi\u001b[0m\u001b[0;34m)\u001b[0m\u001b[0;34m\u001b[0m\u001b[0;34m\u001b[0m\u001b[0m\n\u001b[0m",
            "\u001b[0;31mZeroDivisionError\u001b[0m: division by zero"
          ]
        }
      ]
    },
    {
      "cell_type": "markdown",
      "source": [
        "Exception handling for divison by zero"
      ],
      "metadata": {
        "id": "c8lGs8efoCt5"
      }
    },
    {
      "cell_type": "code",
      "source": [
        "for i in range(-5,6):\n",
        "  try:\n",
        "      print(\"100/\",i,\"-->\",100/i)\n",
        "  except:\n",
        "      print(\"error\")"
      ],
      "metadata": {
        "colab": {
          "base_uri": "https://localhost:8080/"
        },
        "id": "1Z82Sbzcn8RX",
        "outputId": "65ba33da-2c9c-459a-f60d-2ca24498fc28"
      },
      "execution_count": null,
      "outputs": [
        {
          "output_type": "stream",
          "name": "stdout",
          "text": [
            "100/ -5 --> -20.0\n",
            "100/ -4 --> -25.0\n",
            "100/ -3 --> -33.333333333333336\n",
            "100/ -2 --> -50.0\n",
            "100/ -1 --> -100.0\n",
            "error\n",
            "100/ 1 --> 100.0\n",
            "100/ 2 --> 50.0\n",
            "100/ 3 --> 33.333333333333336\n",
            "100/ 4 --> 25.0\n",
            "100/ 5 --> 20.0\n"
          ]
        }
      ]
    },
    {
      "cell_type": "markdown",
      "source": [
        "Exception handaling for array out of index"
      ],
      "metadata": {
        "id": "YjZKa_0DogxA"
      }
    },
    {
      "cell_type": "code",
      "source": [
        "L=[1,2,3,4,5]\n",
        "for i in range(8):\n",
        "  try:\n",
        "    print(i,\"-->\",L[i])\n",
        "  except:\n",
        "      print(\"error\")"
      ],
      "metadata": {
        "colab": {
          "base_uri": "https://localhost:8080/"
        },
        "id": "2L2Y8Clxoppm",
        "outputId": "06a6654d-4290-4dde-9589-907699eb3dbe"
      },
      "execution_count": null,
      "outputs": [
        {
          "output_type": "stream",
          "name": "stdout",
          "text": [
            "0 --> 1\n",
            "1 --> 2\n",
            "2 --> 3\n",
            "3 --> 4\n",
            "4 --> 5\n",
            "error\n",
            "error\n",
            "error\n"
          ]
        }
      ]
    },
    {
      "cell_type": "markdown",
      "source": [
        "Exception handling for file not found"
      ],
      "metadata": {
        "id": "B8Z3aoI8pSk3"
      }
    },
    {
      "cell_type": "code",
      "source": [
        "filename=input(\"Enter the file name: \")\n",
        "try:\n",
        "  fp=open(filename)\n",
        "  fp.close()\n",
        "except:\n",
        "  print(\"Error File not found\")\n",
        "\n",
        "print(\"done\")"
      ],
      "metadata": {
        "colab": {
          "base_uri": "https://localhost:8080/"
        },
        "id": "-hIj5Xb_pZM8",
        "outputId": "4a379b9d-d52e-4ac1-f886-33bc7453657c"
      },
      "execution_count": null,
      "outputs": [
        {
          "output_type": "stream",
          "name": "stdout",
          "text": [
            "Enter the file name: pr\n",
            "Error File not found\n",
            "done\n"
          ]
        }
      ]
    },
    {
      "cell_type": "markdown",
      "source": [
        "Data Structure 1 -List"
      ],
      "metadata": {
        "id": "e3ShSfrbqakq"
      }
    },
    {
      "cell_type": "markdown",
      "source": [
        "List Declaration"
      ],
      "metadata": {
        "id": "KSZMXJyzq25h"
      }
    },
    {
      "cell_type": "code",
      "source": [
        "L=[\"Neeraj\",'Bhardwaj',3.14,3]\n",
        "print(\"original list: \",L)\n",
        "print(\"size:\",len(L))"
      ],
      "metadata": {
        "colab": {
          "base_uri": "https://localhost:8080/"
        },
        "id": "5aiSLA4Mpn_T",
        "outputId": "d60221d2-7654-472d-8df7-9451e4cf35a2"
      },
      "execution_count": 5,
      "outputs": [
        {
          "output_type": "stream",
          "name": "stdout",
          "text": [
            "original list:  ['Neeraj', 'Bhardwaj', 3.14, 3]\n",
            "size: 4\n"
          ]
        }
      ]
    },
    {
      "cell_type": "markdown",
      "source": [
        "List Iteration"
      ],
      "metadata": {
        "id": "zhFwTCHMrgpC"
      }
    },
    {
      "cell_type": "code",
      "source": [
        "L=[\"Neeraj\",'Bhardwaj',3.14,3]\n",
        "print(\"original list: \",L)\n",
        "i=0\n",
        "while i<len(L):\n",
        " print(L[i])\n",
        " i+=1"
      ],
      "metadata": {
        "colab": {
          "base_uri": "https://localhost:8080/"
        },
        "id": "LC6HpDD5rklm",
        "outputId": "c1a01bf0-b46c-4f56-8f4c-7508cc2dd5ea"
      },
      "execution_count": 6,
      "outputs": [
        {
          "output_type": "stream",
          "name": "stdout",
          "text": [
            "original list:  ['Neeraj', 'Bhardwaj', 3.14, 3]\n",
            "Neeraj\n",
            "Bhardwaj\n",
            "3.14\n",
            "3\n"
          ]
        }
      ]
    },
    {
      "cell_type": "markdown",
      "source": [
        "List Iteration Using Loop"
      ],
      "metadata": {
        "id": "f1XQIDNir2sP"
      }
    },
    {
      "cell_type": "code",
      "source": [
        "L=[\"Neeraj\",'Bhardwaj',3.14,3]\n",
        "print(\"original list: \",L)\n",
        "for i in range(0,len(L)):\n",
        "  print(L[i])"
      ],
      "metadata": {
        "colab": {
          "base_uri": "https://localhost:8080/"
        },
        "id": "qAMbfZGMr8jv",
        "outputId": "19aa7754-44db-450e-b70c-c1564686bea8"
      },
      "execution_count": 7,
      "outputs": [
        {
          "output_type": "stream",
          "name": "stdout",
          "text": [
            "original list:  ['Neeraj', 'Bhardwaj', 3.14, 3]\n",
            "Neeraj\n",
            "Bhardwaj\n",
            "3.14\n",
            "3\n"
          ]
        }
      ]
    },
    {
      "cell_type": "code",
      "source": [
        "L=[\"Neeraj\",'Bhardwaj',3.14,3]\n",
        "print(\"original list: \",L)\n",
        "for s in L:\n",
        "  print(s)"
      ],
      "metadata": {
        "colab": {
          "base_uri": "https://localhost:8080/"
        },
        "id": "RjEDYkARsQd6",
        "outputId": "bb945809-8475-4afc-adb0-59b0aa76699d"
      },
      "execution_count": 8,
      "outputs": [
        {
          "output_type": "stream",
          "name": "stdout",
          "text": [
            "original list:  ['Neeraj', 'Bhardwaj', 3.14, 3]\n",
            "Neeraj\n",
            "Bhardwaj\n",
            "3.14\n",
            "3\n"
          ]
        }
      ]
    },
    {
      "cell_type": "markdown",
      "source": [
        "Adding and deleting from list"
      ],
      "metadata": {
        "id": "6mtZ8n3xsWtA"
      }
    },
    {
      "cell_type": "code",
      "source": [
        "L=[\"Neeraj\",'Bhardwaj',3.14,3]\n",
        "print(\"original list: \",L)\n",
        "L.append(\"Rohit\")\n",
        "L.insert(2,\"rakesh\")\n",
        "print(\"updated list -->\",L)\n",
        "del L[1]\n",
        "print(\"updated list -->\",L)"
      ],
      "metadata": {
        "colab": {
          "base_uri": "https://localhost:8080/"
        },
        "id": "vaPGt-nAsbhp",
        "outputId": "9cd1db3f-3b0a-4bb5-8a04-e46bde19beb3"
      },
      "execution_count": 9,
      "outputs": [
        {
          "output_type": "stream",
          "name": "stdout",
          "text": [
            "original list:  ['Neeraj', 'Bhardwaj', 3.14, 3]\n",
            "updated list --> ['Neeraj', 'Bhardwaj', 'rakesh', 3.14, 3, 'Rohit']\n",
            "updated list --> ['Neeraj', 'rakesh', 3.14, 3, 'Rohit']\n"
          ]
        }
      ]
    },
    {
      "cell_type": "markdown",
      "source": [
        "Sum/Average of List"
      ],
      "metadata": {
        "id": "Fl-RLFGNs9hp"
      }
    },
    {
      "cell_type": "code",
      "source": [
        "L=[3,6,7,9,4,5]\n",
        "print(\"Orignal List -->\",L)\n",
        "\n",
        "print(\"Sum -->\",sum(L))\n",
        "print(\"Average -->\",sum(L)/len(L))\n",
        "print(\"Average -->\",sum(L)//len(L))\n",
        "\n",
        "print(\"L*3 -->\",L*3)  # Every Element get tripled\n",
        "print(\"L+L -->\",L+L)  # Every Element get doubled"
      ],
      "metadata": {
        "colab": {
          "base_uri": "https://localhost:8080/"
        },
        "id": "dQ8kob6NtBUK",
        "outputId": "c227cc3c-c801-4306-ef1f-a75619ffc0db"
      },
      "execution_count": null,
      "outputs": [
        {
          "output_type": "stream",
          "name": "stdout",
          "text": [
            "Orignal List --> [3, 6, 7, 9, 4, 5]\n",
            "Sum --> 34\n",
            "Average --> 5.666666666666667\n",
            "Average --> 5\n",
            "L*3 --> [3, 6, 7, 9, 4, 5, 3, 6, 7, 9, 4, 5, 3, 6, 7, 9, 4, 5]\n",
            "L+L --> [3, 6, 7, 9, 4, 5, 3, 6, 7, 9, 4, 5]\n"
          ]
        }
      ]
    },
    {
      "cell_type": "markdown",
      "source": [
        "Min/Max/Sort the list"
      ],
      "metadata": {
        "id": "g9DJHX3suZEO"
      }
    },
    {
      "cell_type": "code",
      "source": [
        "L=[3,6,7,9,4,5]\n",
        "print(\"Orignal List -->\",L)\n",
        "\n",
        "print(\"max -->\",max(L))\n",
        "print(\"min -->\",min(L))\n",
        "\n",
        "L.sort()\n",
        "print(\"Sorted List (Asending) -->\",L)\n",
        "\n",
        "L.sort(reverse=True)\n",
        "print(\"Sorted List (Desending) -->\",L)\n"
      ],
      "metadata": {
        "colab": {
          "base_uri": "https://localhost:8080/"
        },
        "id": "gfdkiaxsuhc4",
        "outputId": "76fe74ac-a1fe-4a63-8291-45ec72857020"
      },
      "execution_count": null,
      "outputs": [
        {
          "output_type": "stream",
          "name": "stdout",
          "text": [
            "Orignal List --> [3, 6, 7, 9, 4, 5]\n",
            "max --> 9\n",
            "min --> 3\n",
            "Sorted List (Asending) --> [3, 4, 5, 6, 7, 9]\n",
            "Sorted List (Desending) --> [9, 7, 6, 5, 4, 3]\n"
          ]
        }
      ]
    },
    {
      "cell_type": "markdown",
      "source": [
        "Merge List and select elements"
      ],
      "metadata": {
        "id": "o7rFBRNMvxhY"
      }
    },
    {
      "cell_type": "code",
      "source": [
        "L1=[3,6,9]\n",
        "L2=[4,12,3,2]\n",
        "L3=L1+L2\n",
        "print(\"L1 -->\",L1)\n",
        "print(\"L2 -->\",L2)\n",
        "print(\"L3 -->\",L3)\n",
        "\n",
        "print(\"\\nL3[2:] -->\",L3[2:])\n",
        "print(\"L3[2:5] -->\",L3[2:5])\n",
        "print(\"L3[:-1] -->\",L3[:-1])\n",
        "print(\"L3[::2] -->\",L3[::2])"
      ],
      "metadata": {
        "colab": {
          "base_uri": "https://localhost:8080/"
        },
        "id": "xemBOFNlv2dp",
        "outputId": "136a77c7-c30e-4a65-a22b-75bd9801b00f"
      },
      "execution_count": null,
      "outputs": [
        {
          "output_type": "stream",
          "name": "stdout",
          "text": [
            "L1 --> [3, 6, 9]\n",
            "L2 --> [4, 12, 3, 2]\n",
            "L3 --> [3, 6, 9, 4, 12, 3, 2]\n",
            "\n",
            "L3[2:] --> [9, 4, 12, 3, 2]\n",
            "L3[2:5] --> [9, 4, 12]\n",
            "L3[:-1] --> [3, 6, 9, 4, 12, 3]\n",
            "L3[::2] --> [3, 9, 12, 2]\n"
          ]
        }
      ]
    },
    {
      "cell_type": "markdown",
      "source": [
        "Multiply all element of the list by a constant"
      ],
      "metadata": {
        "id": "EOFRbPshzhCC"
      }
    },
    {
      "cell_type": "code",
      "source": [
        "L=[3,6,7,9,4,5]\n",
        "print(\"Orignal List -->\",L)\n",
        "newL=[i*5 for i in L]\n",
        "print(\"After Multifly with constant -->\",newL)"
      ],
      "metadata": {
        "colab": {
          "base_uri": "https://localhost:8080/"
        },
        "id": "TfoNUC6DzoZS",
        "outputId": "dea9d43e-b36d-4793-daa4-02f4bd19613d"
      },
      "execution_count": null,
      "outputs": [
        {
          "output_type": "stream",
          "name": "stdout",
          "text": [
            "Orignal List --> [3, 6, 7, 9, 4, 5]\n",
            "After Multifly with constant --> [15, 30, 35, 45, 20, 25]\n"
          ]
        }
      ]
    },
    {
      "cell_type": "markdown",
      "source": [
        "Searching in the list"
      ],
      "metadata": {
        "id": "fVSWHjW50Izg"
      }
    },
    {
      "cell_type": "code",
      "source": [
        "L=[3,6,7,9,4,5]\n",
        "print(\"Orignal List -->\",6 in L)\n",
        "print(\"Orignal List -->\",10 in L)\n",
        "print(\"Orignal List -->\",4 in L)\n",
        "\n",
        "if(6 in L) == True:\n",
        "  print(\"Present\")\n",
        "else:\n",
        "  print(\"Not Present\")\n",
        "\n",
        "\n",
        "if (10 in L) == False:\n",
        "  print(\"Not Present\")\n",
        "else:\n",
        "  print(\"Present\")"
      ],
      "metadata": {
        "colab": {
          "base_uri": "https://localhost:8080/"
        },
        "id": "TGm_VaEs0NW7",
        "outputId": "9ccfa242-86db-425a-800a-a2b4580ac1a2"
      },
      "execution_count": null,
      "outputs": [
        {
          "output_type": "stream",
          "name": "stdout",
          "text": [
            "Orignal List --> True\n",
            "Orignal List --> False\n",
            "Orignal List --> True\n",
            "Present\n",
            "Not Present\n"
          ]
        }
      ]
    },
    {
      "cell_type": "markdown",
      "source": [
        "Data Structure 2 - Dictonary"
      ],
      "metadata": {
        "id": "kE6aUBCu17Bz"
      }
    },
    {
      "cell_type": "markdown",
      "source": [
        "Declare Dictonary"
      ],
      "metadata": {
        "id": "GQp8qtLR2Quj"
      }
    },
    {
      "cell_type": "code",
      "source": [
        "CGPA={1:8.9, 2:9.6, 4:6.7, 8:5.3}\n",
        "print(\"Dictonary -->\",CGPA)\n",
        "print(\"Num of element -->\", len(CGPA))\n",
        "print(\"CGPA of 1 -->\",CGPA[1])\n",
        "print(\"CGPA of 2 -->\",CGPA[2])\n",
        "print(\"CGPA of 4 -->\",CGPA[4])\n",
        "print(\"CGPA of 8 -->\",CGPA[8])"
      ],
      "metadata": {
        "colab": {
          "base_uri": "https://localhost:8080/"
        },
        "id": "Z6UwypeI2NQM",
        "outputId": "16c3ad9c-a3ed-425e-d401-7373ea272f38"
      },
      "execution_count": null,
      "outputs": [
        {
          "output_type": "stream",
          "name": "stdout",
          "text": [
            "Dictonary --> {1: 8.9, 2: 9.6, 4: 6.7, 8: 5.3}\n",
            "Num of element --> 4\n",
            "CGPA of 1 --> 8.9\n",
            "CGPA of 2 --> 9.6\n",
            "CGPA of 4 --> 6.7\n",
            "CGPA of 8 --> 5.3\n"
          ]
        }
      ]
    },
    {
      "cell_type": "markdown",
      "source": [
        "Triverse Dictonary"
      ],
      "metadata": {
        "id": "_L9cE8iW3xaU"
      }
    },
    {
      "cell_type": "code",
      "source": [
        "CGPA={1:8.9, 2:9.6, 4:6.7, 8:5.3}\n",
        "for k in CGPA:\n",
        "  print(\"CGPA of\",k,\"-->\",CGPA[k])"
      ],
      "metadata": {
        "colab": {
          "base_uri": "https://localhost:8080/"
        },
        "id": "jLexa4gN315_",
        "outputId": "d0181f50-6f87-45b3-fcd3-16b7fba7c936"
      },
      "execution_count": null,
      "outputs": [
        {
          "output_type": "stream",
          "name": "stdout",
          "text": [
            "CGPA of 1 --> 8.9\n",
            "CGPA of 2 --> 9.6\n",
            "CGPA of 4 --> 6.7\n",
            "CGPA of 8 --> 5.3\n"
          ]
        }
      ]
    },
    {
      "cell_type": "markdown",
      "source": [
        "Getting Keys and Values"
      ],
      "metadata": {
        "id": "LadWinOC4Mfr"
      }
    },
    {
      "cell_type": "code",
      "source": [
        "CGPA={1:8.9, 2:9.6, 4:6.7, 8:5.3}\n",
        "print(\"Dictonary -->\",CGPA)\n",
        "print(\"keys -->\",list(CGPA.keys()))\n",
        "print(\"values -->\",list(CGPA.values()))\n",
        "\n",
        "print(\"Average -->\",sum(CGPA.values())/len(CGPA))"
      ],
      "metadata": {
        "colab": {
          "base_uri": "https://localhost:8080/"
        },
        "id": "ulo9Dhp-4Tcn",
        "outputId": "e7f25afa-eefe-48c7-e232-fe89cf1a1f3d"
      },
      "execution_count": null,
      "outputs": [
        {
          "output_type": "stream",
          "name": "stdout",
          "text": [
            "Dictonary --> {1: 8.9, 2: 9.6, 4: 6.7, 8: 5.3}\n",
            "keys --> [1, 2, 4, 8]\n",
            "values --> [8.9, 9.6, 6.7, 5.3]\n",
            "Average --> 7.625\n"
          ]
        }
      ]
    },
    {
      "cell_type": "markdown",
      "source": [
        "Updating, Adding and Deleting from Dictionary"
      ],
      "metadata": {
        "id": "6rni-Qb-4yU-"
      }
    },
    {
      "cell_type": "code",
      "source": [
        "CGPA={1:8.9, 2:9.6, 4:6.7, 8:5.3}\n",
        "print(\"Dictonary -->\",CGPA)\n",
        "\n",
        "CGPA[4]=9.3\n",
        "print(\"After updating (4) -->\",CGPA)\n",
        "\n",
        "CGPA[10]=9.1\n",
        "print(\"After adding (10) -->\",CGPA)\n",
        "\n",
        "del CGPA[8]\n",
        "print(\"After deleting (8) -->\",CGPA)\n",
        "\n",
        "CGPA.clear()\n",
        "print(\"After clear -->\",CGPA)"
      ],
      "metadata": {
        "colab": {
          "base_uri": "https://localhost:8080/"
        },
        "id": "wbeHet9_48zN",
        "outputId": "6955ef27-eefb-4765-8c1a-4f12f14cb3da"
      },
      "execution_count": null,
      "outputs": [
        {
          "output_type": "stream",
          "name": "stdout",
          "text": [
            "Dictonary --> {1: 8.9, 2: 9.6, 4: 6.7, 8: 5.3}\n",
            "After updating (4) --> {1: 8.9, 2: 9.6, 4: 9.3, 8: 5.3}\n",
            "After adding (10) --> {1: 8.9, 2: 9.6, 4: 9.3, 8: 5.3, 10: 9.1}\n",
            "After deleting (8) --> {1: 8.9, 2: 9.6, 4: 9.3, 10: 9.1}\n",
            "After clear --> {}\n"
          ]
        }
      ]
    },
    {
      "cell_type": "markdown",
      "source": [
        "Checking for Key in Dictionary"
      ],
      "metadata": {
        "id": "-teuWj9V5mb_"
      }
    },
    {
      "cell_type": "code",
      "source": [
        "CGPA={1:8.9, 2:9.6, 4:6.7, 8:5.3}\n",
        "print(\"Dictonary -->\",CGPA)\n",
        "print(\"Is key 2 Present -->\",2 in CGPA)\n",
        "print(\"Is key 9 Present -->\",9 in CGPA)"
      ],
      "metadata": {
        "colab": {
          "base_uri": "https://localhost:8080/"
        },
        "id": "UzuPEyAp5wWu",
        "outputId": "66b1b6b6-c40c-4524-848b-0adb090035e6"
      },
      "execution_count": null,
      "outputs": [
        {
          "output_type": "stream",
          "name": "stdout",
          "text": [
            "Dictonary --> {1: 8.9, 2: 9.6, 4: 6.7, 8: 5.3}\n",
            "Is key 2 Present --> True\n",
            "Is key 9 Present --> False\n"
          ]
        }
      ]
    },
    {
      "cell_type": "markdown",
      "source": [
        "Data Structure 3 - Set"
      ],
      "metadata": {
        "id": "Tnl7PdvQ6Em7"
      }
    },
    {
      "cell_type": "markdown",
      "source": [
        "Declare Set"
      ],
      "metadata": {
        "id": "G2YCcyJj6MFM"
      }
    },
    {
      "cell_type": "code",
      "source": [
        "s= set(['A','B','C','D']) # ALL elements is unique in sets\n",
        "print(\"Set -->\",s)\n",
        "print(\"Num of element -->\",len(s))"
      ],
      "metadata": {
        "colab": {
          "base_uri": "https://localhost:8080/"
        },
        "id": "SO5qTizm6Jvf",
        "outputId": "4cf05051-0e41-41d4-86f5-11135c8af8e7"
      },
      "execution_count": null,
      "outputs": [
        {
          "output_type": "stream",
          "name": "stdout",
          "text": [
            "Set --> {'A', 'B', 'D', 'C'}\n",
            "Num of element --> 4\n"
          ]
        }
      ]
    },
    {
      "cell_type": "markdown",
      "source": [
        "Operations on Sets"
      ],
      "metadata": {
        "id": "ULYMWPoc6y0Q"
      }
    },
    {
      "cell_type": "code",
      "source": [
        "a= set(['A','B','C','D'])\n",
        "b= set(['G','H','K','E'])\n",
        "print(\"Set a -->\",a)\n",
        "print(\"Set b -->\",b)\n",
        "\n",
        "print(\"Union -->\",a.union(b))\n",
        "print(\"Intersection -->\",a.intersection(b))\n",
        "print(\"Difference -->\",a-b)\n",
        "print(\"Symmetric Difference a-b -->\",a.symmetric_difference(b))\n",
        "print(\"Symmetric Difference b-a -->\",b.symmetric_difference(a))"
      ],
      "metadata": {
        "colab": {
          "base_uri": "https://localhost:8080/"
        },
        "id": "GllUEQFO633E",
        "outputId": "089a55fa-95b8-4bb1-8271-233da7c741f3"
      },
      "execution_count": null,
      "outputs": [
        {
          "output_type": "stream",
          "name": "stdout",
          "text": [
            "Set a --> {'A', 'B', 'D', 'C'}\n",
            "Set b --> {'K', 'G', 'E', 'H'}\n",
            "Union --> {'E', 'B', 'D', 'A', 'K', 'H', 'G', 'C'}\n",
            "Intersection --> set()\n",
            "Difference --> {'A', 'B', 'D', 'C'}\n",
            "Symmetric Difference a-b --> {'B', 'D', 'A', 'K', 'C', 'H', 'G', 'E'}\n",
            "Symmetric Difference b-a --> {'E', 'B', 'D', 'A', 'K', 'H', 'G', 'C'}\n"
          ]
        }
      ]
    },
    {
      "cell_type": "markdown",
      "source": [
        "Command Line Argument"
      ],
      "metadata": {
        "id": "gT2JgKFv704c"
      }
    },
    {
      "cell_type": "markdown",
      "source": [
        "Add two numbers given at cmd line"
      ],
      "metadata": {
        "id": "ui2Xwcyj75aa"
      }
    },
    {
      "cell_type": "code",
      "source": [
        "import sys\n",
        "print(sys.argv)\n",
        "a=int(sys.argv[1])\n",
        "b=int(sys.argv[2])\n",
        "c=a+b\n",
        "print(a,\"+\",b,\"-->\",c)"
      ],
      "metadata": {
        "id": "PVz6ytmL9VsR"
      },
      "execution_count": null,
      "outputs": []
    },
    {
      "cell_type": "markdown",
      "source": [
        "File Handling"
      ],
      "metadata": {
        "id": "IOLqoa9BIWDl"
      }
    },
    {
      "cell_type": "markdown",
      "source": [
        "Writing 1 to 10 in file"
      ],
      "metadata": {
        "id": "UuKyxT1RIY5q"
      }
    },
    {
      "cell_type": "code",
      "source": [
        "fp=open('result.txt','w') #open the file in writing mode\n",
        "for i in range(1,11):\n",
        "  fp.write(str(i) + \"\\n\") #writing to the file line by line\n",
        "fp.close()\n",
        "\n",
        "print(\"Writing done !! \\n open result.txt to view the content\")"
      ],
      "metadata": {
        "colab": {
          "base_uri": "https://localhost:8080/"
        },
        "id": "teSKz_D_IVZ2",
        "outputId": "7a0ae760-8179-452d-9764-da652f3bbe99"
      },
      "execution_count": null,
      "outputs": [
        {
          "output_type": "stream",
          "name": "stdout",
          "text": [
            "Writing done !! \n",
            " open result.txt to view the content\n"
          ]
        }
      ]
    },
    {
      "cell_type": "markdown",
      "source": [
        "Read a file and print its content"
      ],
      "metadata": {
        "id": "OdoQmZSeJ0tE"
      }
    },
    {
      "cell_type": "code",
      "source": [
        "fp=open('result.txt') #open the file in reading mode\n",
        "for line in fp:       # print line by line\n",
        "  print(line.strip())\n",
        "fp.close()"
      ],
      "metadata": {
        "colab": {
          "base_uri": "https://localhost:8080/"
        },
        "id": "Y9SIrF72KEfd",
        "outputId": "8bce260f-1f8e-4ec9-ff82-df459eec721b"
      },
      "execution_count": null,
      "outputs": [
        {
          "output_type": "stream",
          "name": "stdout",
          "text": [
            "1\n",
            "2\n",
            "3\n",
            "4\n",
            "5\n",
            "6\n",
            "7\n",
            "8\n",
            "9\n",
            "10\n"
          ]
        }
      ]
    },
    {
      "cell_type": "markdown",
      "source": [
        "Read from one file, Convert it to upper case and write to other file"
      ],
      "metadata": {
        "id": "H7wpGYWtLYwj"
      }
    },
    {
      "cell_type": "code",
      "source": [
        "Readfp=open('result.txt')            #open the file in reading mode\n",
        "Writefp=open('result_upper.txt','w') #open the file in Writing mode\n",
        "for line in Readfp:\n",
        "  Writefp.write(line.upper())\n",
        "Readfp.close()\n",
        "Writefp.close()\n",
        "\n",
        "print(\"writing done !! \\nOpen result.txt to view the content\")"
      ],
      "metadata": {
        "colab": {
          "base_uri": "https://localhost:8080/"
        },
        "id": "8y8qrhmZLi2f",
        "outputId": "e96f9c1f-784c-40d8-c42f-2810ea7919d8"
      },
      "execution_count": null,
      "outputs": [
        {
          "output_type": "stream",
          "name": "stdout",
          "text": [
            "writing done !! \n",
            "Open result.txt to view the content\n"
          ]
        }
      ]
    }
  ]
}